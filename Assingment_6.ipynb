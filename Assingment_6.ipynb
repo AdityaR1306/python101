{
  "nbformat": 4,
  "nbformat_minor": 0,
  "metadata": {
    "colab": {
      "provenance": [],
      "authorship_tag": "ABX9TyPjbceV32mt0gMEdV7DF578",
      "include_colab_link": true
    },
    "kernelspec": {
      "name": "python3",
      "display_name": "Python 3"
    },
    "language_info": {
      "name": "python"
    }
  },
  "cells": [
    {
      "cell_type": "markdown",
      "metadata": {
        "id": "view-in-github",
        "colab_type": "text"
      },
      "source": [
        "<a href=\"https://colab.research.google.com/github/AdityaR1306/python101/blob/main/Assingment_6.ipynb\" target=\"_parent\"><img src=\"https://colab.research.google.com/assets/colab-badge.svg\" alt=\"Open In Colab\"/></a>"
      ]
    },
    {
      "cell_type": "markdown",
      "source": [
        "# Distance traveled\n",
        "### ( Using For loop and Range functions)\n",
        "#### Date: 10/20/2022"
      ],
      "metadata": {
        "id": "NPAjkc0wBvYc"
      }
    },
    {
      "cell_type": "code",
      "execution_count": 1,
      "metadata": {
        "colab": {
          "base_uri": "https://localhost:8080/"
        },
        "id": "qlJIy9OOBmq3",
        "outputId": "2a093937-36cd-445a-fd2e-ccc515a218c1"
      },
      "outputs": [
        {
          "output_type": "stream",
          "name": "stdout",
          "text": [
            "Enter your speed in MPH: 80\n",
            "Enter the number of hours you drove: 5\n",
            "Hour:Distance\n",
            "1  :  80.0\n",
            "2  :  160.0\n",
            "3  :  240.0\n",
            "4  :  320.0\n"
          ]
        }
      ],
      "source": [
        "speed=input(\"Enter your speed in MPH: \")\n",
        "time=input(\"Enter the number of hours you drove: \")\n",
        "speed=float(speed)\n",
        "time=int(time)\n",
        "distance=speed*time\n",
        "# time=time+1\n",
        "\n",
        "print('Hour:Distance')\n",
        "\n",
        "for x in range (1, time): \n",
        "    print(x, \" : \",speed*(x))\n",
        "  "
      ]
    },
    {
      "cell_type": "markdown",
      "source": [
        "# Celsius to Farenheit Converter\n",
        "### (Using For loop and range functions)\n",
        "#### Date: 10/20/2022\n"
      ],
      "metadata": {
        "id": "VVEW6V57FN-_"
      }
    },
    {
      "cell_type": "code",
      "source": [
        "Celsius=0\n",
        "# FORMATTING\n",
        "print(\"Celsius  Farenheit\")\n",
        "# for loop\n",
        "for Celsius in range(21):\n",
        "    print(\"  \", Celsius, \"     \",    Celsius*1.8+32)"
      ],
      "metadata": {
        "colab": {
          "base_uri": "https://localhost:8080/"
        },
        "id": "NacdegvQG0du",
        "outputId": "931e0946-b63f-4c64-8fff-f24730aee2a7"
      },
      "execution_count": null,
      "outputs": [
        {
          "output_type": "stream",
          "name": "stdout",
          "text": [
            "Celsius  Farenheit\n",
            "   0       32.0\n",
            "   1       33.8\n",
            "   2       35.6\n",
            "   3       37.4\n",
            "   4       39.2\n",
            "   5       41.0\n",
            "   6       42.8\n",
            "   7       44.6\n",
            "   8       46.4\n",
            "   9       48.2\n",
            "   10       50.0\n",
            "   11       51.8\n",
            "   12       53.6\n",
            "   13       55.400000000000006\n",
            "   14       57.2\n",
            "   15       59.0\n",
            "   16       60.8\n",
            "   17       62.6\n",
            "   18       64.4\n",
            "   19       66.2\n",
            "   20       68.0\n"
          ]
        }
      ]
    }
  ]
}