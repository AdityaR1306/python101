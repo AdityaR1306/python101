{
  "nbformat": 4,
  "nbformat_minor": 0,
  "metadata": {
    "colab": {
      "provenance": [],
      "collapsed_sections": [],
      "include_colab_link": true
    },
    "kernelspec": {
      "name": "python3",
      "display_name": "Python 3"
    },
    "language_info": {
      "name": "python"
    }
  },
  "cells": [
    {
      "cell_type": "markdown",
      "metadata": {
        "id": "view-in-github",
        "colab_type": "text"
      },
      "source": [
        "<a href=\"https://colab.research.google.com/github/AdityaR1306/python101/blob/main/Assingments_8_1_and_8_2.ipynb\" target=\"_parent\"><img src=\"https://colab.research.google.com/assets/colab-badge.svg\" alt=\"Open In Colab\"/></a>"
      ]
    },
    {
      "cell_type": "code",
      "source": [],
      "metadata": {
        "id": "H3mWnK2KfLDr"
      },
      "execution_count": null,
      "outputs": []
    },
    {
      "cell_type": "markdown",
      "source": [
        "# Assignment 8.1\n",
        "### Date 11/5/2022"
      ],
      "metadata": {
        "id": "snIu30LK4tEz"
      }
    },
    {
      "cell_type": "code",
      "execution_count": 39,
      "metadata": {
        "id": "jf7TN922Ray7",
        "colab": {
          "base_uri": "https://localhost:8080/"
        },
        "outputId": "6085ca29-0dc2-4740-f0fa-548a4f0fa697"
      },
      "outputs": [
        {
          "output_type": "stream",
          "name": "stdout",
          "text": [
            "max of 10.05,30.7 and 2.002:  30.7\n",
            "max of 4, 5, 5:  5\n",
            "max of 5, 5, 5:  5\n",
            "max of -2, 0, -3:  0\n",
            "Enter 1st word  iaji\n",
            "Enter 2nd word  hihi\n",
            "Enter 3rd word  qu9\n",
            "max of iaji hihi qu9 iaji\n"
          ]
        }
      ],
      "source": [
        "\n",
        "\n",
        "\n",
        "# This function returns the max of 3 numbers\n",
        "# Defining getMax\n",
        "def getMax(a, b, c):\n",
        "  if (a > b):\n",
        "    if (a > c):\n",
        "      return a\n",
        "    else:\n",
        "      return c\n",
        "  elif (b > c):\n",
        "    return b\n",
        "  else: \n",
        "    return c\n",
        "# It returns the length of the string input to the function\n",
        "def getLength(input_str):\n",
        "    x = len(input_str)\n",
        "    return x\n",
        "    \n",
        "# Float example\n",
        "x = getMax(10.05, 30.7, 2.002)\n",
        "print(\"max of 10.05,30.7 and 2.002: \", x)\n",
        "#Int example\n",
        "y = getMax(4, 5, 5)\n",
        "print(\"max of 4, 5, 5: \", y)\n",
        "#Int example \n",
        "z = getMax(5, 5, 5)\n",
        "print(\"max of 5, 5, 5: \", z)\n",
        "#Int example\n",
        "z = getMax(-2, 0, -3)\n",
        "print(\"max of -2, 0, -3: \", z)\n",
        "#String example\n",
        "m=input('Enter 1st word  ')\n",
        "n=input('Enter 2nd word  ')\n",
        "p=input('Enter 3rd word  ')\n",
        "a = getLength(m) \n",
        "l = getLength(n)\n",
        "j = getLength(p)\n",
        "z = getMax(a,l,j)\n",
        "# If elif and else statements to find the preferred conditions\n",
        "if(z == a):\n",
        "   print(\"max of\",m  ,  n,  p, m)\n",
        "elif(z == l):\n",
        "   print(\"max of\",m  ,  n,  p,n )\n",
        "else:\n",
        "  print(\"max of\",m  ,  n,  p, p)\n",
        "  \n",
        "  \n",
        "\n"
      ]
    },
    {
      "cell_type": "code",
      "source": [],
      "metadata": {
        "id": "5Hdo3wslZb5p"
      },
      "execution_count": null,
      "outputs": []
    },
    {
      "cell_type": "code",
      "source": [
        "def getLength(input_str):\n",
        "    x = len(input_str)\n",
        "    return x\n",
        "    \n",
        "# call the function\n",
        "\n",
        "a = getLength(\"ABC\")\n",
        "print(\"length of ABC: \", a)\n",
        "\n",
        "a = getLength(\"ABCD\")\n",
        "print(\"length of ABCD: \", a)\n",
        "\n",
        "\n",
        "a = getLength(\"Python\")\n",
        "print(\"length of Python: \", a)"
      ],
      "metadata": {
        "id": "Y-ZdL8MYRuhi"
      },
      "execution_count": null,
      "outputs": []
    },
    {
      "cell_type": "code",
      "source": [
        "\n",
        "# implement isLeapYear() function and perform the testing\n",
        "\n",
        "\n",
        "# This function isLeapYear returns true if the year is a leap year.\n",
        "# If the year is not a leap year it returns false\n",
        "def isLeapYear(input_year):\n",
        "  \n",
        "    # This is the conditions for a year to be a leap year\n",
        "  if(input_year % 100 == 0 or input_year % 400 == 0):\n",
        "    return True\n",
        "  elif(input_year % 100 == 0 or input_year % 4 == 0):\n",
        "      return True\n",
        "  else:\n",
        "    return False\n",
        "\n",
        "\n",
        "\n",
        "\n",
        "\n",
        "# Main Program\n",
        "year=input(\"enter the year:  \")\n",
        "year=int(year)\n",
        "# Printing the leap years\n",
        "x= isLeapYear(year)\n",
        "print(x)\n",
        "if( x is True):\n",
        "  print('It is a leap year')\n",
        "else:\n",
        "    print('It is not a leap year')\n",
        "\n",
        "\n",
        "\n"
      ],
      "metadata": {
        "id": "iAHWHURVR0Hi",
        "colab": {
          "base_uri": "https://localhost:8080/"
        },
        "outputId": "dd15a01e-bbf4-4c39-d644-305d0be4a9e9"
      },
      "execution_count": 24,
      "outputs": [
        {
          "output_type": "stream",
          "name": "stdout",
          "text": [
            "enter the year:  3000567896\n",
            "True\n",
            "It is a leap year\n"
          ]
        }
      ]
    },
    {
      "cell_type": "code",
      "source": [
        "#@title Void-Returning Function (Returns \"None\")\n",
        "'''\n",
        "Given a number x, this method prints the sequence of numbers\n",
        "from 1 to the input number x\n",
        "'''\n",
        "\n",
        "def printSequence(x):\n",
        "    for i in range(1, x+1):\n",
        "        print(i, end= ' ')\n",
        "        \n",
        "# invoke the function\n",
        "# Using the return value None is not required\n",
        "# x = printSequence(5)\n",
        "# print(\"value returned be Void-returning function: \", x)\n",
        "\n",
        "printSequence(5)\n",
        "print()\n",
        "printSequence(10)\n",
        "print()\n",
        "printSequence(25)"
      ],
      "metadata": {
        "id": "g9qALkaeR21o"
      },
      "execution_count": null,
      "outputs": []
    },
    {
      "cell_type": "code",
      "source": [
        "# you can define all the functions at one place\n",
        "# Once those are tested and proved, you can use them any number of times.\n",
        "# ======= defining the functions\n",
        "\n",
        "def area_of_square(x):\n",
        "    return x*x\n",
        "    \n",
        "def area_of_circle(x):\n",
        "    import math\n",
        "    area = (math.pi) * x * x\n",
        "    return area\n",
        "    \n",
        "def area_of_rectangle(x,y):\n",
        "    area = x * y\n",
        "    return area\n",
        "    \n",
        "def perimeter_of_rectangle(x,y):\n",
        "    perimeter = (2*x) + (2*y)\n",
        "    return perimeter\n",
        "    \n",
        "\n",
        "# === invoking / calling the functions\n",
        "\n",
        "x = area_of_square(10)\n",
        "print(\"Area of Square(10): \", x)\n",
        "\n",
        "y = 10\n",
        "z = area_of_circle(y)\n",
        "print(\"Area of Circle(10): \", z)\n",
        "\n",
        "a = 5\n",
        "b = 10\n",
        "c = area_of_rectangle(a,b)\n",
        "print(\"Area of Rectangle(5, 10): \", c)\n",
        "\n",
        "\n",
        "d = perimeter_of_rectangle(a,b)\n",
        "print(\"Area of Perimeter of Rectangle(5, 10): \", d)\n"
      ],
      "metadata": {
        "colab": {
          "base_uri": "https://localhost:8080/"
        },
        "id": "YrhvjTA4fE9q",
        "outputId": "c51fda30-86d9-4c1e-c01d-c81c82e86c83"
      },
      "execution_count": null,
      "outputs": [
        {
          "output_type": "stream",
          "name": "stdout",
          "text": [
            "Area of Square(10):  100\n",
            "Area of Circle(10):  314.1592653589793\n",
            "Area of Rectangle(5, 10):  50\n",
            "Area of Perimeter of Rectangle(5, 10):  30\n"
          ]
        }
      ]
    },
    {
      "cell_type": "code",
      "source": [
        "# Menu-Driven Programming\n",
        "MENU_OPTION = '''\n",
        "                 1. Enter a student\n",
        "                 2. Edit a student\n",
        "                 3. Search for a student\n",
        "                 4. Help\n",
        "                 5. Quit\n",
        "              '''\n",
        "              \n",
        "def printMenu():\n",
        "    print(MENU_OPTION)\n",
        "    x = int(input(\"Make your choice\"))\n",
        "    return x\n",
        "    \n",
        "    \n",
        "def main():\n",
        "    while True:\n",
        "        x = printMenu()\n",
        "        if x == 5:\n",
        "            break\n",
        "        print(\"you have selected: \", x)\n",
        "        \n",
        "\n",
        "# call the main function\n",
        "main()"
      ],
      "metadata": {
        "id": "iJtqmwfThRI2"
      },
      "execution_count": null,
      "outputs": []
    }
  ]
}