{
  "nbformat": 4,
  "nbformat_minor": 0,
  "metadata": {
    "colab": {
      "provenance": [],
      "authorship_tag": "ABX9TyN2EdTZFHG5RQ9U+8Dnv2BQ",
      "include_colab_link": true
    },
    "kernelspec": {
      "name": "python3",
      "display_name": "Python 3"
    },
    "language_info": {
      "name": "python"
    }
  },
  "cells": [
    {
      "cell_type": "markdown",
      "metadata": {
        "id": "view-in-github",
        "colab_type": "text"
      },
      "source": [
        "<a href=\"https://colab.research.google.com/github/AdityaR1306/python101/blob/main/assignment4%20python%20101.ipynb\" target=\"_parent\"><img src=\"https://colab.research.google.com/assets/colab-badge.svg\" alt=\"Open In Colab\"/></a>"
      ]
    },
    {
      "cell_type": "markdown",
      "source": [
        "#Budget Analysis\n",
        "### 10/5/2022"
      ],
      "metadata": {
        "id": "z8GAFGA6hPKD"
      }
    },
    {
      "cell_type": "code",
      "execution_count": 41,
      "metadata": {
        "colab": {
          "base_uri": "https://localhost:8080/"
        },
        "id": "CIPndhgmhLb4",
        "outputId": "11ecb65b-011d-4336-e9a1-58cdc1a83d44"
      },
      "outputs": [
        {
          "output_type": "stream",
          "name": "stdout",
          "text": [
            "Enter this month's budget 90\n",
            "Enter expenditure 1  100\n",
            "You are over the budget\n"
          ]
        }
      ],
      "source": [
        "budget=input(\"Enter this month's budget \")\n",
        "budget=float(budget)\n",
        "no_of_expense=20\n",
        "loop_count=1\n",
        "total_expense=0\n",
        "\n",
        "\n",
        "while (loop_count <= no_of_expense):\n",
        "  expense=input(\"Enter expenditure \"  +  str (loop_count )+ \"  \")\n",
        "  expense=float(expense)\n",
        "  total_expense=expense+total_expense\n",
        "  if(total_expense > budget):\n",
        "    break\n",
        "  else:\n",
        "   loop_count=loop_count+1\n",
        "if(total_expense > budget):\n",
        "  print(\"You are over the budget\")\n",
        "else:\n",
        "  print(\" You are within your budget\")\n",
        " \n",
        "\n",
        "  \n",
        "\n",
        "\n"
      ]
    },
    {
      "cell_type": "markdown",
      "source": [
        "#Distance Travel Calculator\n",
        "\n",
        "\n"
      ],
      "metadata": {
        "id": "pq8sOIUGuV5N"
      }
    },
    {
      "cell_type": "code",
      "source": [
        "speed=input(\"Enter your speed in MPH: \")\n",
        "time=input(\"Enter the number of hours you drove: \")\n",
        "speed=float(speed)\n",
        "time=float(time)\n",
        "distance=speed*time\n",
        "loop_counter=1\n",
        "hour_counter=0\n",
        "print('Hour:Distance')\n",
        "\n",
        "while(hour_counter < time):\n",
        "  if(time < 1):\n",
        "    print(time, \" : \", distance)\n",
        "  else:\n",
        "    print(loop_counter, \" : \",speed*(loop_counter))\n",
        "  hour_counter=hour_counter+1\n",
        "  loop_counter=loop_counter+1\n",
        "\n",
        "\n"
      ],
      "metadata": {
        "colab": {
          "base_uri": "https://localhost:8080/"
        },
        "id": "oOtg8mJDv6cE",
        "outputId": "9f7a452a-1728-4b90-8114-23177e171ead"
      },
      "execution_count": 68,
      "outputs": [
        {
          "output_type": "stream",
          "name": "stdout",
          "text": [
            "Enter your speed in MPH: 80\n",
            "Enter the number of hours you drove: 0.7\n",
            "Hour:Distance\n",
            "0.7  :  56.0\n"
          ]
        }
      ]
    },
    {
      "cell_type": "markdown",
      "source": [
        "# Celsius to farenheit converter"
      ],
      "metadata": {
        "id": "Lh88Wpo5Gmvn"
      }
    },
    {
      "cell_type": "code",
      "source": [
        "Celsius=0\n",
        "print(\"Celsius  Farenheit\")\n",
        "while(Celsius <= 20):\n",
        "    print(\"  \", Celsius, \"     \",    Celsius*1.8+32)\n",
        "    Celsius=Celsius+1"
      ],
      "metadata": {
        "colab": {
          "base_uri": "https://localhost:8080/"
        },
        "id": "g6xovA5-GuQ9",
        "outputId": "56bb2ac9-f486-4c3a-d8f4-323c564d576f"
      },
      "execution_count": 87,
      "outputs": [
        {
          "output_type": "stream",
          "name": "stdout",
          "text": [
            "Celsius  Farenheit\n",
            "   0       32.0\n",
            "   1       33.8\n",
            "   2       35.6\n",
            "   3       37.4\n",
            "   4       39.2\n",
            "   5       41.0\n",
            "   6       42.8\n",
            "   7       44.6\n",
            "   8       46.4\n",
            "   9       48.2\n",
            "   10       50.0\n",
            "   11       51.8\n",
            "   12       53.6\n",
            "   13       55.400000000000006\n",
            "   14       57.2\n",
            "   15       59.0\n",
            "   16       60.8\n",
            "   17       62.6\n",
            "   18       64.4\n",
            "   19       66.2\n",
            "   20       68.0\n"
          ]
        }
      ]
    }
  ]
}