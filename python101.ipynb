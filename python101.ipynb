{
  "nbformat": 4,
  "nbformat_minor": 0,
  "metadata": {
    "colab": {
      "provenance": [],
      "collapsed_sections": [],
      "authorship_tag": "ABX9TyOFUErQha7zIvjuHvNtrnN2",
      "include_colab_link": true
    },
    "kernelspec": {
      "name": "python3",
      "display_name": "Python 3"
    },
    "language_info": {
      "name": "python"
    }
  },
  "cells": [
    {
      "cell_type": "markdown",
      "metadata": {
        "id": "view-in-github",
        "colab_type": "text"
      },
      "source": [
        "<a href=\"https://colab.research.google.com/github/AdityaR1306/python101/blob/main/python101.ipynb\" target=\"_parent\"><img src=\"https://colab.research.google.com/assets/colab-badge.svg\" alt=\"Open In Colab\"/></a>"
      ]
    },
    {
      "cell_type": "code",
      "execution_count": null,
      "metadata": {
        "colab": {
          "base_uri": "https://localhost:8080/"
        },
        "id": "DiR6b2pRFjot",
        "outputId": "1a5923ed-ebfb-47f5-957f-f84b5aa1875b"
      },
      "outputs": [
        {
          "output_type": "stream",
          "name": "stdout",
          "text": [
            "enter the number of pennies: 2\n",
            "enter the number of nickels:  2\n",
            "enter the number of dimes:  2\n",
            "enter the number of quarters:  2\n",
            "The number is less than $1\n"
          ]
        }
      ],
      "source": [
        "#################################\n",
        "#coin counting game\n",
        "#Date - 9/29/2022\n",
        "#################################\n",
        "pennies=input(\"enter the number of pennies: \")\n",
        "nickels=input(\"enter the number of nickels:  \")\n",
        "dimes=input(\"enter the number of dimes:  \")\n",
        "quarters=input(\"enter the number of quarters:  \")\n",
        "pennies=int(pennies)\n",
        "nickels=int(nickels)\n",
        "dimes=int(dimes)\n",
        "quarters=int(quarters)\n",
        "pennies=pennies*1\n",
        "nickels=nickels*5\n",
        "dimes=dimes*10\n",
        "quarters=quarters*25\n",
        "totalsum=(pennies+nickels+dimes+quarters)\n",
        "if(totalsum==100):\n",
        "  print(\"congratulations\")\n",
        "elif(totalsum > 100 ):\n",
        "  print(\"The number is greater than $1\")\n",
        "else:\n",
        "  print(\"The number is less than $1\")\n",
        " \n"
      ]
    },
    {
      "cell_type": "markdown",
      "source": [
        "#Book club points\n"
      ],
      "metadata": {
        "id": "GHOws7hEOUsz"
      }
    },
    {
      "cell_type": "code",
      "source": [
        "input_of_books=input(\"input the number of books read \")\n",
        "input_of_books=int(input_of_books)\n",
        "if(input_of_books ==0): \n",
        "  print(\"You get 0 points this month\")\n",
        "elif(input_of_books ==2):\n",
        "   print(\"You get 5 points this month\")\n",
        "elif(input_of_books ==4):\n",
        "   print(\"You get 15 points this month\")\n",
        "elif(input_of_books ==6):\n",
        "  print(\"You get 30 points this month\")\n",
        "elif(input_of_books >=8):\n",
        " print(\"You get 60 points this month\")\n",
        "else:\n",
        "  print(\"You need to purchase 1 more book to get points\")"
      ],
      "metadata": {
        "colab": {
          "base_uri": "https://localhost:8080/"
        },
        "id": "jSOG7TXwOgFw",
        "outputId": "02c46883-e0cc-42af-f8bf-c2cea0695833"
      },
      "execution_count": null,
      "outputs": [
        {
          "output_type": "stream",
          "name": "stdout",
          "text": [
            "input the number of books read 1\n",
            "You need to purchase 1 more book to get points\n"
          ]
        }
      ]
    },
    {
      "cell_type": "markdown",
      "source": [
        "#"
      ],
      "metadata": {
        "id": "_ndUQrx1NBsh"
      }
    }
  ]
}